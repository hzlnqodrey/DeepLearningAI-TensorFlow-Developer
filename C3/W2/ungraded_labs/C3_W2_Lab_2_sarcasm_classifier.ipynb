{
 "cells": [
  {
   "cell_type": "markdown",
   "metadata": {},
   "source": [
    "<a href=\"https://colab.research.google.com/github/https-deeplearning-ai/tensorflow-1-public/blob/master/C3/W2/ungraded_labs/C3_W2_Lab_2_sarcasm_classifier.ipynb\" target=\"_parent\"><img src=\"https://colab.research.google.com/assets/colab-badge.svg\" alt=\"Open In Colab\"/></a>"
   ]
  },
  {
   "cell_type": "markdown",
   "metadata": {
    "id": "ZfVtdwryvvP6"
   },
   "source": [
    "# Ungraded Lab: Training a binary classifier with the Sarcasm Dataset\n",
    "\n",
    "In this lab, you will revisit the [News Headlines Dataset for Sarcasm Detection](https://www.kaggle.com/rmisra/news-headlines-dataset-for-sarcasm-detection/home) from last week and proceed to build a train a model on it. The steps will be very similar to the previous lab with IMDB Reviews with just some minor modifications. You can tweak the hyperparameters and see how it affects the results. Let's begin!"
   ]
  },
  {
   "cell_type": "markdown",
   "metadata": {
    "id": "aWIM6gplHqfx"
   },
   "source": [
    "## Download the dataset\n",
    "\n",
    "You will first download the JSON file, load it into your workspace and put the sentences and labels into lists. "
   ]
  },
  {
   "cell_type": "code",
   "execution_count": 1,
   "metadata": {
    "id": "BQVuQrZNkPn9"
   },
   "outputs": [
    {
     "name": "stderr",
     "output_type": "stream",
     "text": [
      "--2023-01-24 05:56:40--  https://storage.googleapis.com/tensorflow-1-public/course3/sarcasm.json\n",
      "Resolving storage.googleapis.com (storage.googleapis.com)... 34.101.5.80\n",
      "Connecting to storage.googleapis.com (storage.googleapis.com)|34.101.5.80|:443... connected.\n",
      "HTTP request sent, awaiting response... 200 OK\n",
      "Length: 5643545 (5,4M) [application/json]\n",
      "Saving to: 'sarcasm.json'\n",
      "\n",
      "     0K .......... .......... .......... .......... ..........  0% 2,03M 3s\n",
      "    50K .......... .......... .......... .......... ..........  1% 2,96M 2s\n",
      "   100K .......... .......... .......... .......... ..........  2% 3,31M 2s\n",
      "   150K .......... .......... .......... .......... ..........  3% 3,91M 2s\n",
      "   200K .......... .......... .......... .......... ..........  4% 4,75M 2s\n",
      "   250K .......... .......... .......... .......... ..........  5% 4,26M 2s\n",
      "   300K .......... .......... .......... .......... ..........  6% 5,47M 1s\n",
      "   350K .......... .......... .......... .......... ..........  7% 5,63M 1s\n",
      "   400K .......... .......... .......... .......... ..........  8% 7,07M 1s\n",
      "   450K .......... .......... .......... .......... ..........  9% 4,43M 1s\n",
      "   500K .......... .......... .......... .......... ..........  9% 7,26M 1s\n",
      "   550K .......... .......... .......... .......... .......... 10% 6,17M 1s\n",
      "   600K .......... .......... .......... .......... .......... 11% 6,77M 1s\n",
      "   650K .......... .......... .......... .......... .......... 12% 6,69M 1s\n",
      "   700K .......... .......... .......... .......... .......... 13% 1,67M 1s\n",
      "   750K .......... .......... .......... .......... .......... 14% 4,40M 1s\n",
      "   800K .......... .......... .......... .......... .......... 15% 5,36M 1s\n",
      "   850K .......... .......... .......... .......... .......... 16% 6,00M 1s\n",
      "   900K .......... .......... .......... .......... .......... 17% 5,55M 1s\n",
      "   950K .......... .......... .......... .......... .......... 18% 3,59M 1s\n",
      "  1000K .......... .......... .......... .......... .......... 19% 7,31M 1s\n",
      "  1050K .......... .......... .......... .......... .......... 19% 6,72M 1s\n",
      "  1100K .......... .......... .......... .......... .......... 20% 4,30M 1s\n",
      "  1150K .......... .......... .......... .......... .......... 21% 4,23M 1s\n",
      "  1200K .......... .......... .......... .......... .......... 22% 5,86M 1s\n",
      "  1250K .......... .......... .......... .......... .......... 23% 4,13M 1s\n",
      "  1300K .......... .......... .......... .......... .......... 24% 8,53M 1s\n",
      "  1350K .......... .......... .......... .......... .......... 25% 3,87M 1s\n",
      "  1400K .......... .......... .......... .......... .......... 26% 7,68M 1s\n",
      "  1450K .......... .......... .......... .......... .......... 27% 5,81M 1s\n",
      "  1500K .......... .......... .......... .......... .......... 28% 4,29M 1s\n",
      "  1550K .......... .......... .......... .......... .......... 29% 4,61M 1s\n",
      "  1600K .......... .......... .......... .......... .......... 29% 5,71M 1s\n",
      "  1650K .......... .......... .......... .......... .......... 30% 7,66M 1s\n",
      "  1700K .......... .......... .......... .......... .......... 31% 5,92M 1s\n",
      "  1750K .......... .......... .......... .......... .......... 32% 6,45M 1s\n",
      "  1800K .......... .......... .......... .......... .......... 33% 6,29M 1s\n",
      "  1850K .......... .......... .......... .......... .......... 34% 2,16M 1s\n",
      "  1900K .......... .......... .......... .......... .......... 35% 6,91M 1s\n",
      "  1950K .......... .......... .......... .......... .......... 36% 3,86M 1s\n",
      "  2000K .......... .......... .......... .......... .......... 37% 7,25M 1s\n",
      "  2050K .......... .......... .......... .......... .......... 38% 5,25M 1s\n",
      "  2100K .......... .......... .......... .......... .......... 39% 3,88M 1s\n",
      "  2150K .......... .......... .......... .......... .......... 39% 2,91M 1s\n",
      "  2200K .......... .......... .......... .......... .......... 40% 6,07M 1s\n",
      "  2250K .......... .......... .......... .......... .......... 41% 4,64M 1s\n",
      "  2300K .......... .......... .......... .......... .......... 42% 4,69M 1s\n",
      "  2350K .......... .......... .......... .......... .......... 43% 4,10M 1s\n",
      "  2400K .......... .......... .......... .......... .......... 44% 3,10M 1s\n",
      "  2450K .......... .......... .......... .......... .......... 45% 4,60M 1s\n",
      "  2500K .......... .......... .......... .......... .......... 46% 6,31M 1s\n",
      "  2550K .......... .......... .......... .......... .......... 47% 3,97M 1s\n",
      "  2600K .......... .......... .......... .......... .......... 48% 4,88M 1s\n",
      "  2650K .......... .......... .......... .......... .......... 48% 5,37M 1s\n",
      "  2700K .......... .......... .......... .......... .......... 49% 1,77M 1s\n",
      "  2750K .......... .......... .......... .......... .......... 50% 3,46M 1s\n",
      "  2800K .......... .......... .......... .......... .......... 51% 5,95M 1s\n",
      "  2850K .......... .......... .......... .......... .......... 52% 7,46M 1s\n",
      "  2900K .......... .......... .......... .......... .......... 53% 6,11M 1s\n",
      "  2950K .......... .......... .......... .......... .......... 54% 5,58M 1s\n",
      "  3000K .......... .......... .......... .......... .......... 55% 4,02M 1s\n",
      "  3050K .......... .......... .......... .......... .......... 56% 8,60M 1s\n",
      "  3100K .......... .......... .......... .......... .......... 57% 6,81M 1s\n",
      "  3150K .......... .......... .......... .......... .......... 58% 1,15M 1s\n",
      "  3200K .......... .......... .......... .......... .......... 58% 4,53M 1s\n",
      "  3250K .......... .......... .......... .......... .......... 59% 5,08M 0s\n",
      "  3300K .......... .......... .......... .......... .......... 60% 3,57M 0s\n",
      "  3350K .......... .......... .......... .......... .......... 61% 3,97M 0s\n",
      "  3400K .......... .......... .......... .......... .......... 62% 7,65M 0s\n",
      "  3450K .......... .......... .......... .......... .......... 63% 5,58M 0s\n",
      "  3500K .......... .......... .......... .......... .......... 64% 3,76M 0s\n",
      "  3550K .......... .......... .......... .......... .......... 65% 3,73M 0s\n",
      "  3600K .......... .......... .......... .......... .......... 66% 2,69M 0s\n",
      "  3650K .......... .......... .......... .......... .......... 67% 7,87M 0s\n",
      "  3700K .......... .......... .......... .......... .......... 68% 7,80M 0s\n",
      "  3750K .......... .......... .......... .......... .......... 68% 3,28M 0s\n",
      "  3800K .......... .......... .......... .......... .......... 69% 8,81M 0s\n",
      "  3850K .......... .......... .......... .......... .......... 70% 7,64M 0s\n",
      "  3900K .......... .......... .......... .......... .......... 71% 3,87M 0s\n",
      "  3950K .......... .......... .......... .......... .......... 72% 5,59M 0s\n",
      "  4000K .......... .......... .......... .......... .......... 73% 1,78M 0s\n",
      "  4050K .......... .......... .......... .......... .......... 74% 1,14M 0s\n",
      "  4100K .......... .......... .......... .......... .......... 75% 6,02M 0s\n",
      "  4150K .......... .......... .......... .......... .......... 76% 4,91M 0s\n",
      "  4200K .......... .......... .......... .......... .......... 77% 6,08M 0s\n",
      "  4250K .......... .......... .......... .......... .......... 78% 3,72M 0s\n",
      "  4300K .......... .......... .......... .......... .......... 78% 2,42M 0s\n",
      "  4350K .......... .......... .......... .......... .......... 79% 4,41M 0s\n",
      "  4400K .......... .......... .......... .......... .......... 80% 3,47M 0s\n",
      "  4450K .......... .......... .......... .......... .......... 81% 6,75M 0s\n",
      "  4500K .......... .......... .......... .......... .......... 82% 6,10M 0s\n",
      "  4550K .......... .......... .......... .......... .......... 83% 7,19M 0s\n",
      "  4600K .......... .......... .......... .......... .......... 84% 7,08M 0s\n",
      "  4650K .......... .......... .......... .......... .......... 85% 7,17M 0s\n",
      "  4700K .......... .......... .......... .......... .......... 86% 4,43M 0s\n",
      "  4750K .......... .......... .......... .......... .......... 87% 8,45M 0s\n",
      "  4800K .......... .......... .......... .......... .......... 88% 1,37M 0s\n",
      "  4850K .......... .......... .......... .......... .......... 88% 7,66M 0s\n",
      "  4900K .......... .......... .......... .......... .......... 89% 4,45M 0s\n",
      "  4950K .......... .......... .......... .......... .......... 90% 6,14M 0s\n",
      "  5000K .......... .......... .......... .......... .......... 91% 3,62M 0s\n",
      "  5050K .......... .......... .......... .......... .......... 92% 6,23M 0s\n",
      "  5100K .......... .......... .......... .......... .......... 93% 6,03M 0s\n",
      "  5150K .......... .......... .......... .......... .......... 94% 7,30M 0s\n",
      "  5200K .......... .......... .......... .......... .......... 95% 5,97M 0s\n",
      "  5250K .......... .......... .......... .......... .......... 96% 1,33M 0s\n",
      "  5300K .......... .......... .......... .......... .......... 97% 9,51M 0s\n",
      "  5350K .......... .......... .......... .......... .......... 97% 6,75M 0s\n",
      "  5400K .......... .......... .......... .......... .......... 98% 7,77M 0s\n",
      "  5450K .......... .......... .......... .......... .......... 99% 4,57M 0s\n",
      "  5500K .......... .                                          100% 6,55M=1,3s\n",
      "\n",
      "2023-01-24 05:56:43 (4,25 MB/s) - 'sarcasm.json' saved [5643545/5643545]\n",
      "\n"
     ]
    }
   ],
   "source": [
    "# Download the dataset\n",
    "!wget https://storage.googleapis.com/tensorflow-1-public/course3/sarcasm.json"
   ]
  },
  {
   "cell_type": "code",
   "execution_count": null,
   "metadata": {
    "id": "oaLaaqhNkUPd"
   },
   "outputs": [],
   "source": [
    "import json\n",
    "\n",
    "# Load the JSON file\n",
    "with open(\"./sarcasm.json\", 'r') as f:\n",
    "    datastore = json.load(f)\n",
    "\n",
    "# Initialize the lists\n",
    "sentences = []\n",
    "labels = []\n",
    "\n",
    "# Collect sentences and labels into the lists\n",
    "for item in datastore:\n",
    "    sentences.append(item['headline'])\n",
    "    labels.append(item['is_sarcastic'])"
   ]
  },
  {
   "cell_type": "markdown",
   "metadata": {
    "id": "kw1I6oNSfCxa"
   },
   "source": [
    "## Hyperparameters\n",
    "\n",
    "We placed the hyperparameters in the cell below so you can easily tweak it later:"
   ]
  },
  {
   "cell_type": "code",
   "execution_count": null,
   "metadata": {
    "id": "wpF4x5olfHX-"
   },
   "outputs": [],
   "source": [
    "# Number of examples to use for training\n",
    "training_size = 20000\n",
    "\n",
    "# Vocabulary size of the tokenizer\n",
    "vocab_size = 10000\n",
    "\n",
    "# Maximum length of the padded sequences\n",
    "max_length = 32\n",
    "\n",
    "# Output dimensions of the Embedding layer\n",
    "embedding_dim = 16"
   ]
  },
  {
   "cell_type": "markdown",
   "metadata": {
    "id": "dHibcDI0H5Zj"
   },
   "source": [
    "## Split the dataset\n",
    "\n",
    "Next, you will generate your train and test datasets. You will use the `training_size` value you set above to slice the `sentences` and `labels` lists into two sublists: one fore training and another for testing."
   ]
  },
  {
   "cell_type": "code",
   "execution_count": null,
   "metadata": {
    "id": "S1sD-7v0kYWk"
   },
   "outputs": [],
   "source": [
    "# Split the sentences\n",
    "training_sentences = sentences[0:training_size]\n",
    "testing_sentences = sentences[training_size:]\n",
    "\n",
    "# Split the labels\n",
    "training_labels = labels[0:training_size]\n",
    "testing_labels = labels[training_size:]"
   ]
  },
  {
   "cell_type": "markdown",
   "metadata": {
    "id": "qciTzNR7IHzJ"
   },
   "source": [
    "## Preprocessing the train and test sets\n",
    "\n",
    "Now you can preprocess the text and labels so it can be consumed by the model. You use the `Tokenizer` class to create the vocabulary and the `pad_sequences` method to generate padded token sequences. You will also need to set the labels to a numpy array so it can be a valid data type for `model.fit()`."
   ]
  },
  {
   "cell_type": "code",
   "execution_count": null,
   "metadata": {
    "id": "3u8UB0MCkZ5N"
   },
   "outputs": [],
   "source": [
    "import numpy as np\n",
    "from tensorflow.keras.preprocessing.text import Tokenizer\n",
    "from tensorflow.keras.preprocessing.sequence import pad_sequences\n",
    "\n",
    "# Parameters for padding and OOV tokens\n",
    "trunc_type='post'\n",
    "padding_type='post'\n",
    "oov_tok = \"<OOV>\"\n",
    "\n",
    "# Initialize the Tokenizer class\n",
    "tokenizer = Tokenizer(num_words=vocab_size, oov_token=oov_tok)\n",
    "\n",
    "# Generate the word index dictionary\n",
    "tokenizer.fit_on_texts(training_sentences)\n",
    "word_index = tokenizer.word_index\n",
    "\n",
    "# Generate and pad the training sequences\n",
    "training_sequences = tokenizer.texts_to_sequences(training_sentences)\n",
    "training_padded = pad_sequences(training_sequences, maxlen=max_length, padding=padding_type, truncating=trunc_type)\n",
    "\n",
    "# Generate and pad the testing sequences\n",
    "testing_sequences = tokenizer.texts_to_sequences(testing_sentences)\n",
    "testing_padded = pad_sequences(testing_sequences, maxlen=max_length, padding=padding_type, truncating=trunc_type)\n",
    "\n",
    "# Convert the labels lists into numpy arrays\n",
    "training_labels = np.array(training_labels)\n",
    "testing_labels = np.array(testing_labels)"
   ]
  },
  {
   "cell_type": "markdown",
   "metadata": {
    "id": "AMF4afx2IdHo"
   },
   "source": [
    "## Build and Compile the Model\n",
    "\n",
    "Next, you will build the model. The architecture is similar to the previous lab but you will use a [GlobalAveragePooling1D](https://www.tensorflow.org/api_docs/python/tf/keras/layers/GlobalAveragePooling1D) layer instead of `Flatten` after the Embedding. This adds the task of averaging over the sequence dimension before connecting to the dense layers. See a short demo of how this works using the snippet below. Notice that it gets the average over 3 arrays (i.e. `(10 + 1 + 1) / 3` and `(2 + 3 + 1) / 3` to arrive at the final output."
   ]
  },
  {
   "cell_type": "code",
   "execution_count": null,
   "metadata": {
    "id": "7KDCvSc0kFOz"
   },
   "outputs": [],
   "source": [
    "import tensorflow as tf\n",
    "\n",
    "# Initialize a GlobalAveragePooling1D (GAP1D) layer\n",
    "gap1d_layer = tf.keras.layers.GlobalAveragePooling1D()\n",
    "\n",
    "# Define sample array\n",
    "sample_array = np.array([[[10,2],[1,3],[1,1]]])\n",
    "\n",
    "# Print shape and contents of sample array\n",
    "print(f'shape of sample_array = {sample_array.shape}')\n",
    "print(f'sample array: {sample_array}')\n",
    "\n",
    "# Pass the sample array to the GAP1D layer\n",
    "output = gap1d_layer(sample_array)\n",
    "\n",
    "# Print shape and contents of the GAP1D output array\n",
    "print(f'output shape of gap1d_layer: {output.shape}')\n",
    "print(f'output array of gap1d_layer: {output.numpy()}')"
   ]
  },
  {
   "cell_type": "markdown",
   "metadata": {
    "id": "evlU_kqOshc4"
   },
   "source": [
    "This added computation reduces the dimensionality of the model as compared to using `Flatten()` and thus, the number of training parameters will also decrease. See the output of `model.summary()` below and see how it compares if you swap out the pooling layer with a simple `Flatten()`."
   ]
  },
  {
   "cell_type": "code",
   "execution_count": null,
   "metadata": {
    "id": "FufaT4vlkiDE"
   },
   "outputs": [],
   "source": [
    "# Build the model\n",
    "model = tf.keras.Sequential([\n",
    "    tf.keras.layers.Embedding(vocab_size, embedding_dim, input_length=max_length),\n",
    "    tf.keras.layers.GlobalAveragePooling1D(),\n",
    "    tf.keras.layers.Dense(24, activation='relu'),\n",
    "    tf.keras.layers.Dense(1, activation='sigmoid')\n",
    "])\n",
    "\n",
    "# Print the model summary\n",
    "model.summary()"
   ]
  },
  {
   "cell_type": "markdown",
   "metadata": {
    "id": "GMxT5NzKtRgr"
   },
   "source": [
    "You will use the same loss, optimizer, and metrics from the previous lab."
   ]
  },
  {
   "cell_type": "code",
   "execution_count": null,
   "metadata": {
    "id": "XfDt1hmYkiys"
   },
   "outputs": [],
   "source": [
    "# Compile the model\n",
    "model.compile(loss='binary_crossentropy',optimizer='adam',metrics=['accuracy'])"
   ]
  },
  {
   "cell_type": "markdown",
   "metadata": {
    "id": "Axtd-WQAJIUK"
   },
   "source": [
    "## Train the Model\n",
    "\n",
    "Now you will feed in the prepared datasets to train the model. If you used the default hyperparameters, you will get around 99% training accuracy and 80% validation accuracy.\n",
    "\n",
    "*Tip: You can set the `verbose` parameter of `model.fit()` to `2` to indicate that you want to print just the results per epoch. Setting it to `1` (default) displays a progress bar per epoch, while `0` silences all displays. It doesn't matter much in this Colab but when working in a production environment, you may want to set this to `2` as recommended in the [documentation](https://keras.io/api/models/model_training_apis/#fit-method).*"
   ]
  },
  {
   "cell_type": "code",
   "execution_count": null,
   "metadata": {
    "id": "2DTKQFf1kkyc"
   },
   "outputs": [],
   "source": [
    "num_epochs = 30\n",
    "\n",
    "# Train the model\n",
    "history = model.fit(training_padded, training_labels, epochs=num_epochs, validation_data=(testing_padded, testing_labels), verbose=2)"
   ]
  },
  {
   "cell_type": "markdown",
   "metadata": {
    "id": "L_bWhGOSJLLm"
   },
   "source": [
    "## Visualize the Results\n",
    "\n",
    "You can use the cell below to plot the training results. You may notice some overfitting because your validation accuracy is slowly dropping while the training accuracy is still going up. See if you can improve it by tweaking the hyperparameters. Some example values are shown in the lectures."
   ]
  },
  {
   "cell_type": "code",
   "execution_count": null,
   "metadata": {
    "id": "2HYfBKXjkmU8"
   },
   "outputs": [],
   "source": [
    "import matplotlib.pyplot as plt\n",
    "\n",
    "# Plot utility\n",
    "def plot_graphs(history, string):\n",
    "  plt.plot(history.history[string])\n",
    "  plt.plot(history.history['val_'+string])\n",
    "  plt.xlabel(\"Epochs\")\n",
    "  plt.ylabel(string)\n",
    "  plt.legend([string, 'val_'+string])\n",
    "  plt.show()\n",
    "  \n",
    "# Plot the accuracy and loss\n",
    "plot_graphs(history, \"accuracy\")\n",
    "plot_graphs(history, \"loss\")"
   ]
  },
  {
   "cell_type": "markdown",
   "metadata": {
    "id": "JN6kaxxcJQgd"
   },
   "source": [
    "## Visualize Word Embeddings\n",
    "\n",
    "As before, you can visualize the final weights of the embeddings using the [Tensorflow Embedding Projector](https://projector.tensorflow.org/)."
   ]
  },
  {
   "cell_type": "code",
   "execution_count": null,
   "metadata": {
    "id": "c9MqihtEkzQ9"
   },
   "outputs": [],
   "source": [
    "# Get the index-word dictionary\n",
    "reverse_word_index = tokenizer.index_word\n",
    "\n",
    "# Get the embedding layer from the model (i.e. first layer)\n",
    "embedding_layer = model.layers[0]\n",
    "\n",
    "# Get the weights of the embedding layer\n",
    "embedding_weights = embedding_layer.get_weights()[0]\n",
    "\n",
    "# Print the shape. Expected is (vocab_size, embedding_dim)\n",
    "print(embedding_weights.shape) \n"
   ]
  },
  {
   "cell_type": "code",
   "execution_count": null,
   "metadata": {
    "id": "LoBXVffknldU"
   },
   "outputs": [],
   "source": [
    "import io\n",
    "\n",
    "# Open writeable files\n",
    "out_v = io.open('vecs.tsv', 'w', encoding='utf-8')\n",
    "out_m = io.open('meta.tsv', 'w', encoding='utf-8')\n",
    "\n",
    "# Initialize the loop. Start counting at `1` because `0` is just for the padding\n",
    "for word_num in range(1, vocab_size):\n",
    "\n",
    "  # Get the word associated at the current index\n",
    "  word_name = reverse_word_index[word_num]\n",
    "\n",
    "  # Get the embedding weights associated with the current index\n",
    "  word_embedding = embedding_weights[word_num]\n",
    "\n",
    "  # Write the word name\n",
    "  out_m.write(word_name + \"\\n\")\n",
    "\n",
    "  # Write the word embedding\n",
    "  out_v.write('\\t'.join([str(x) for x in word_embedding]) + \"\\n\")\n",
    "\n",
    "# Close the files\n",
    "out_v.close()\n",
    "out_m.close()"
   ]
  },
  {
   "cell_type": "code",
   "execution_count": null,
   "metadata": {
    "id": "U4eZ5HtVnnEE"
   },
   "outputs": [],
   "source": [
    "# Import files utilities in Colab\n",
    "try:\n",
    "  from google.colab import files\n",
    "except ImportError:\n",
    "  pass\n",
    "\n",
    "# Download the files\n",
    "else:\n",
    "  files.download('vecs.tsv')\n",
    "  files.download('meta.tsv')"
   ]
  },
  {
   "cell_type": "markdown",
   "metadata": {
    "id": "1GierJvdJWMt"
   },
   "source": [
    "## Wrap Up\n",
    "\n",
    "In this lab, you were able to build a binary classifier to detect sarcasm. You saw some overfitting in the initial attempt and hopefully, you were able to arrive at a better set of hyperparameters.\n",
    "\n",
    "So far, you've been tokenizing datasets from scratch and you're treating the vocab size as a hyperparameter. Furthermore, you're tokenizing the texts by building a vocabulary of full words. In the next lab, you will make use of a pre-tokenized dataset that uses a vocabulary of *subwords*. For instance, instead of having a uniqe token for the word `Tensorflow`, it will instead have a token each for `Ten`, `sor`, and `flow`. You will see the motivation and implications of having this design in the next exercise. See you there!"
   ]
  }
 ],
 "metadata": {
  "colab": {
   "collapsed_sections": [],
   "name": "C3_W2_Lab_2_sarcasm_classifier.ipynb",
   "private_outputs": true,
   "provenance": []
  },
  "kernelspec": {
   "display_name": "Python 3",
   "language": "python",
   "name": "python3"
  },
  "language_info": {
   "codemirror_mode": {
    "name": "ipython",
    "version": 3
   },
   "file_extension": ".py",
   "mimetype": "text/x-python",
   "name": "python",
   "nbconvert_exporter": "python",
   "pygments_lexer": "ipython3",
   "version": "3.8.0"
  },
  "vscode": {
   "interpreter": {
    "hash": "898a950986d43450680efc03f9903704e020e6e6b23d64c62a66308a081cc53c"
   }
  }
 },
 "nbformat": 4,
 "nbformat_minor": 1
}
